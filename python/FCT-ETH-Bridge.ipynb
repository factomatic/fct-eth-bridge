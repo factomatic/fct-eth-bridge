{
 "cells": [
  {
   "cell_type": "code",
   "execution_count": null,
   "metadata": {},
   "outputs": [],
   "source": [
    "from functools import reduce\n",
    "import hashlib\n",
    "import struct\n",
    "\n",
    "import base58\n",
    "from factom import Factomd\n",
    "from factom_core.blocks import DirectoryBlock, FactoidBlock"
   ]
  },
  {
   "cell_type": "markdown",
   "metadata": {},
   "source": [
    "## Functions that are translated to Solidity"
   ]
  },
  {
   "cell_type": "markdown",
   "metadata": {},
   "source": [
    "These functions contain the smart contract logic, which essentially takes the raw data for a Factoid transaction, such as tx input, tx output, input & output counts and amounts, as well as the elements along the Merkle authentication path for the transaction, necessary to reconstruct the Factom anchor recorded on Ethereum.\n",
    "\n",
    "It proceeds by:\n",
    "* computing the transaction hash\n",
    "* asserting that the transaction satisfies (an imaginary) request for a given amount of FCT to be transferred to a given address\n",
    "* computing the window Merkle root, recorded on Ethereum, from the transaction hash and the Merkle authenation path elements"
   ]
  },
  {
   "cell_type": "code",
   "execution_count": null,
   "metadata": {},
   "outputs": [],
   "source": [
    "def varint_encode(number: int):\n",
    "    \"\"\"Pack `number` into varint bytes\"\"\"\n",
    "    buf = bytearray()\n",
    "    if number == 0:\n",
    "        buf.append(0x00)\n",
    "\n",
    "    h = number\n",
    "    start = False\n",
    "    if 0x8000000000000000 & h != 0:\n",
    "        buf.append(0x81)\n",
    "        start = True\n",
    "\n",
    "    for i in range(9):\n",
    "        b = h >> 56\n",
    "        if b != 0 or start:\n",
    "            start = True\n",
    "            b = b | 0x80 if i != 8 else b & 0x7F\n",
    "            b = b if b < 256 else struct.pack(\">Q\", b)[-1]\n",
    "            buf.append(b)\n",
    "\n",
    "        h = h << 7\n",
    "\n",
    "    return bytes(buf)\n",
    "\n",
    "def verify_merkle_path(elem, path, root, hash_f=hashlib.sha256):\n",
    "    right = 0\n",
    "    left = 1\n",
    "    val1 = elem\n",
    "    for val2, left_or_right in path:\n",
    "        val1 = hash_f(val1 + val2).digest() if left_or_right is right else hash_f(val2 + val1).digest()\n",
    "    return val1 == root\n",
    "\n",
    "def derive_fct_address(address):\n",
    "    address = b'\\x5f\\xb1' + address\n",
    "    checksum = hashlib.sha256(hashlib.sha256(address).digest()).digest()[:4]\n",
    "    return base58.b58encode(address + checksum)\n",
    "\n",
    "# This is the main function that checks the validity of the transaction for fulfilling a request\n",
    "def smart_contract_logic(\n",
    "    tx_timestamp: bytes, \n",
    "    input_count: bytes,\n",
    "    output_count: bytes,\n",
    "    ec_count: bytes,\n",
    "    input_addresses: list,\n",
    "    input_amounts: list,\n",
    "    output_address: bytes,\n",
    "    output_amount: int,\n",
    "    ec_amounts: list,\n",
    "    ec_addresses: list,\n",
    "    rcds: list,\n",
    "    signatures: list,\n",
    "    tx_block_height: int,\n",
    "    tx_merkle_path: list,\n",
    "    factoid_block_header_hash: bytes,\n",
    "    factoid_block_body_merkle_root: bytes,\n",
    "    factoid_block_merkle_path: list,\n",
    "    directory_block_body_merkle_root: bytes,\n",
    "    directory_block_header_hash: bytes,\n",
    "    directory_block_merkle_path: list,\n",
    "    fct_address_for_request: bytes,\n",
    "    fct_amount_for_request: int,\n",
    "):\n",
    "    assert output_amount == fct_amount_for_request\n",
    "    \n",
    "    # Derive the human-readable FCT address from output_address\n",
    "    fct_address = derive_fct_address(output_address)\n",
    "    assert fct_address == fct_address_for_request\n",
    "    \n",
    "    buf = bytearray()\n",
    "    buf.append(0x02)\n",
    "    buf.extend(tx_timestamp)\n",
    "    buf.extend(input_count)\n",
    "    buf.extend(output_count)\n",
    "    buf.extend(ec_count)\n",
    "    for i in range(len(input_amounts)):\n",
    "        buf.extend(varint_encode(input_amounts[i]) + input_addresses[i])\n",
    "    buf.extend(varint_encode(output_amount) + output_address)\n",
    "    for i in range(len(ec_amounts)):\n",
    "        buf.extend(varint_encode(ec_amounts[i]) + ec_addresses[i])\n",
    "    for i in range(len(input_amounts)):\n",
    "        rcd = rcds[i]\n",
    "        signature = signatures[i]\n",
    "        buf.append(0x01)\n",
    "        buf.extend(rcd)\n",
    "        buf.extend(signature)\n",
    "    \n",
    "    tx_hash = hashlib.sha256(bytes(buf)).digest()    \n",
    "    assert verify_merkle_path(tx_hash, tx_merkle_path, factoid_block_body_merkle_root)\n",
    "    \n",
    "    factoid_block_key_mr = hashlib.sha256(factoid_block_header_hash + factoid_block_body_merkle_root).digest()\n",
    "    assert verify_merkle_path(\n",
    "        factoid_block_key_mr,\n",
    "        factoid_block_merkle_path,\n",
    "        directory_block_body_merkle_root\n",
    "    )\n",
    "    \n",
    "    directory_block_key_mr = hashlib.sha256(\n",
    "        directory_block_header_hash + directory_block_body_merkle_root).digest()\n",
    "    # In the smart contract, this should be replaced with a call to the contract with the anchors\n",
    "    window_merkle_root = bytes.fromhex(\n",
    "        factomd.anchors(height=tx_block_height)['ethereum']['windowmr']\n",
    "    )\n",
    "    \n",
    "    assert verify_merkle_path(\n",
    "        directory_block_key_mr,\n",
    "        directory_block_merkle_path,\n",
    "        window_merkle_root\n",
    "    )"
   ]
  },
  {
   "cell_type": "markdown",
   "metadata": {},
   "source": [
    "## Helper functions (not implemented in Solidity)"
   ]
  },
  {
   "cell_type": "markdown",
   "metadata": {},
   "source": [
    "These functions are used to compute the elements in the Merkle authentication path for the given Factoid tx. They are not used inside the Ethereum smart contract (the outputs of these function serve as inputs to the contract)."
   ]
  },
  {
   "cell_type": "code",
   "execution_count": null,
   "metadata": {},
   "outputs": [],
   "source": [
    "def compute_merkle_root(leaves, hash_f=hashlib.sha256):\n",
    "    if len(leaves) == 1:\n",
    "        return leaves[0]\n",
    "\n",
    "    next_level = []\n",
    "\n",
    "    for i in range(0, len(leaves), 2): \n",
    "        val_1 = leaves[i]\n",
    "        val_2 = leaves[i+1] if i+1 != len(leaves) else leaves[i]\n",
    "        next_level.append(hash_f(val_1 + val_2).digest())\n",
    "        \n",
    "    return compute_merkle_root(next_level)\n",
    "\n",
    "def build_merkle_tree(leaves, hash_f=hashlib.sha256):\n",
    "    if len(leaves[-1]) == 0 or len(leaves[-1]) == 1:\n",
    "        return leaves\n",
    "\n",
    "    next_level = []\n",
    "    for i in range(0, len(leaves[-1]), 2):\n",
    "        left = leaves[-1][i]\n",
    "        right = leaves[-1][i + 1] if i + 1 != len(leaves[-1]) else left\n",
    "        top = hash_f(left + right).digest()\n",
    "        next_level.append(top)\n",
    "    \n",
    "    leaves.append(next_level)\n",
    "    return build_merkle_tree(leaves)\n",
    "\n",
    "def compute_merkle_path(index, tree, path=None):\n",
    "    if len(tree) == 0 or len(tree) == 1:\n",
    "        return path\n",
    "    \n",
    "    if path is None:\n",
    "        path = []\n",
    "    \n",
    "    if index % 2 == 1:\n",
    "        path.append((tree[0][index - 1], index % 2))\n",
    "    else:\n",
    "        if len(tree[0]) == index + 1:\n",
    "            path.append((tree[0][index], index % 2))\n",
    "        else:\n",
    "            path.append((tree[0][index + 1], index % 2))\n",
    "    return compute_merkle_path(index // 2, tree[1:], path)\n",
    "\n",
    "def build_merkle_path_from_anchors(anchors):\n",
    "    path = []\n",
    "    left, right = 1, 0\n",
    "    merkle_branch = anchors['ethereum']['merklebranch']\n",
    "    current = anchors['directoryblockkeymr']\n",
    "    for entry in merkle_branch:\n",
    "        if entry['left'] == current:\n",
    "            path.append((bytes.fromhex(entry['right']), right))\n",
    "        else:\n",
    "            path.append((bytes.fromhex(entry['left']), left))\n",
    "        current = entry['top']\n",
    "    return path\n",
    "\n",
    "def factoid_block_body_leaves(factoid_block):\n",
    "    leaves = []\n",
    "    for transactions in factoid_block.body.transactions.values():\n",
    "        for tx in transactions:\n",
    "            leaves.append(tx.hash)\n",
    "        minute_marker = hashlib.sha256(b\"\\x00\").digest()\n",
    "        leaves.append(minute_marker)\n",
    "    return leaves\n"
   ]
  },
  {
   "cell_type": "markdown",
   "metadata": {},
   "source": [
    "# Simulated execution of the contract"
   ]
  },
  {
   "cell_type": "markdown",
   "metadata": {},
   "source": [
    "## Compute the smart contract inputs"
   ]
  },
  {
   "cell_type": "code",
   "execution_count": null,
   "metadata": {},
   "outputs": [],
   "source": [
    "factomd = Factomd(host=\"https://api.factomd.net\")\n",
    "factomd.heights()"
   ]
  },
  {
   "cell_type": "code",
   "execution_count": null,
   "metadata": {},
   "outputs": [],
   "source": [
    "fb = factomd.factoid_block_by_height(213715)\n",
    "factoid_block = FactoidBlock.unmarshal(bytes.fromhex(fb[\"rawdata\"]))\n",
    "leaves = factoid_block_body_leaves(factoid_block)\n",
    "fb_body_mt = build_merkle_tree([leaves])\n",
    "fb_body_mr = compute_merkle_root(leaves)"
   ]
  },
  {
   "cell_type": "code",
   "execution_count": null,
   "metadata": {},
   "outputs": [],
   "source": [
    "db = factomd.directory_block_by_height(213715)\n",
    "db_entries = db['dblock']['dbentries']\n",
    "leaves = []\n",
    "for db_entry in db_entries:\n",
    "    leaves.append(bytes.fromhex(db_entry['chainid']))\n",
    "    leaves.append(bytes.fromhex(db_entry['keymr']))\n",
    "db_mt = build_merkle_tree([leaves])"
   ]
  },
  {
   "cell_type": "code",
   "execution_count": null,
   "metadata": {},
   "outputs": [],
   "source": [
    "directory_block = DirectoryBlock.unmarshal(bytes.fromhex(db['rawdata']))\n",
    "anchors = factomd.anchors(directory_block.keymr)"
   ]
  },
  {
   "cell_type": "markdown",
   "metadata": {},
   "source": [
    "## \"Run\" the smart contract"
   ]
  },
  {
   "cell_type": "markdown",
   "metadata": {},
   "source": [
    "If no expception occurs when running `smart_contract_logic`, this means that the Factoid transaction has been successfully verified. "
   ]
  },
  {
   "cell_type": "code",
   "execution_count": null,
   "metadata": {},
   "outputs": [],
   "source": [
    "tx = factoid_block.body.transactions[1][1]\n",
    "smart_contract_logic(\n",
    "    tx_timestamp=tx.timestamp.to_bytes(6, 'big'),\n",
    "    input_count=len(tx.inputs).to_bytes(1, 'big'),\n",
    "    output_count=len(tx.outputs).to_bytes(1, 'big'),\n",
    "    ec_count=len(tx.ec_purchases).to_bytes(1, 'big'),\n",
    "    input_addresses=list(map(lambda x: x['fct_address'], tx.inputs)),\n",
    "    input_amounts=list(map(lambda x: x['value'], tx.inputs)),\n",
    "    output_address=list(map(lambda x: x['fct_address'], tx.outputs))[0],\n",
    "    output_amount=list(map(lambda x: x['value'], tx.outputs))[0],\n",
    "    ec_addresses=list(map(lambda x: x['ec_public_key'], tx.ec_purchases)),\n",
    "    ec_amounts=list(map(lambda x: x['value'], tx.ec_purchases)),\n",
    "    rcds=list(map(lambda x: x.public_key, tx.rcds)),\n",
    "    signatures=list(map(lambda x: x.signature, tx.rcds)),\n",
    "    fct_amount_for_request=list(map(lambda x: x['value'], tx.outputs))[0],\n",
    "    fct_address_for_request=b'FA2akCVKkeKB7XLbxPU12eZnStMXXnqCR4uye4kCjmBNkXrnAC2H',\n",
    "    tx_merkle_path=compute_merkle_path(fb_body_mt[0].index(tx.hash), fb_body_mt),\n",
    "    factoid_block_body_merkle_root=factoid_block.body.merkle_root,\n",
    "    factoid_block_header_hash=hashlib.sha256(factoid_block.header.marshal()).digest(),\n",
    "    factoid_block_merkle_path=compute_merkle_path(db_mt[0].index(factoid_block.keymr), db_mt),\n",
    "    directory_block_body_merkle_root=directory_block.header.body_mr,\n",
    "    directory_block_header_hash=hashlib.sha256(directory_block.header.marshal()).digest(),\n",
    "    directory_block_merkle_path=build_merkle_path_from_anchors(anchors),\n",
    "    tx_block_height=factoid_block.header.height\n",
    ")"
   ]
  },
  {
   "cell_type": "markdown",
   "metadata": {},
   "source": [
    "# Description of Factoid block raw data"
   ]
  },
  {
   "cell_type": "markdown",
   "metadata": {},
   "source": [
    "The information below is just for illustrative purposes and was used during the development of the Python logic\n",
    "above. The raw data is for block number 213715 and can be accessed using `fb[\"rawdata\"]`"
   ]
  },
  {
   "cell_type": "code",
   "execution_count": null,
   "metadata": {},
   "outputs": [],
   "source": [
    "# # Factoid block header start\n",
    "# '000000000000000000000000000000000000000000000000000000000000000f' -> FCT chain (32 bytes)\n",
    "# 'd2dd9b16ea6a52e562e38607afd165d5a376ce10f248acb97f2f2c49b33f8f9c' -> body MR (32 bytes)\n",
    "# 'a689e7c54c8bdb2e1025c8471dfd103038ade254101252e2d2bd773025bb8af0' -> Previous Key MR (32 bytes)\n",
    "# '8494734948bcdac40516d66990a3e654a8d5e24d935e5a99db5551b822666299' -> Previous Ledger Key MR (32 bytes)\n",
    "# '0000000000007148' -> Exchange rate (8 bytes)\n",
    "# '000342d3' -> Block height (4 bytes)\n",
    "# '00' -> Header Expansion Size (2 bytes)\n",
    "# '00000002' -> Number of transactions (4 bytes)\n",
    "# '00000150' -> Number of bytes in the block body (4 bytes)\n",
    "# # Factoid block header end\n",
    "# # Factoid block body start\n",
    "\n",
    "# # Tx 1\n",
    "# '02' -> Factoid tx marker (1 byte)\n",
    "# '016db650053d' -> tx timestamp (6 bytes) (int.from_bytes(bytes.fromhex(\"016db650053d\"), \"big\"))\n",
    "# '00' -> input count (1 byte)\n",
    "# '00' -> output count (1 byte)\n",
    "# '00' -> entry credit count (1 byte)\n",
    "# # End Tx1\n",
    "\n",
    "# # Tx 2\n",
    "# '02' -> Factoid tx marker (1 byte)\n",
    "# '016db650c90a' -> tx timestamp (6 bytes)\n",
    "# '02' -> input count (1 byte)\n",
    "# '01' -> output count (1 byte)\n",
    "# '00' -> ec count (1 byte)\n",
    "# 'c4a9d38f1a' -> input amount (varint) varint_decode(bytes.fromhex('c4a9d38f1a'))\n",
    "# '77fd94eacd8191bef2b42cef6108eaeae28d1674354e169e88a9e6f0eefa29e8' -> FCT input address (32 bytes)\n",
    "# 'c3d38b8c0e' -> input amount (varint)\n",
    "# '2d9723cd1d4f288ba4ab4f03974255f402913a8ebd7bb71b009481b08e566159' -> FCT input address\n",
    "# '8187fcc79a00' -> output amount (varint)\n",
    "# '50fc0b6f3cae9d7677bb1d84170cb595269216d0b381666999cf8d9663ccc637' -> FCT output address\n",
    "# '01813f7e6a2d87d9918eae6866a5abe9fe2151a81a0cbd81f6f552898e5894c2fb' -> RCD 0\n",
    "# '185b9985bddb3a38ea8c8841c304194068bfd208ae3fe36618633ed9e33e2b303ee8a7536f59f3894f72f075b8dbeb50dd288e39b64a524b8231c43c8303cb0c' -> signature 0\n",
    "# '0151d3684db90b61283c08eabdd9d0660d43b5640f30787d0235dfc25c0a59afec' -> RCD 1\n",
    "# 'bd566a110053fbd16d8c5b4ff7afb6c9e56551bbf95ff97206a72778e3495aa7979889c1cce941f663342ad501a794367ec0641155c4f4475b3e3a6509c09806' -> signature 1\n",
    "# # Tx 2 end\n",
    "# '00' -> minute 0 end\n",
    "# '00' -> minute 1 end\n",
    "# '00' -> minute 2 end\n",
    "# '00' -> minute 3 end\n",
    "# '00' -> minute 4 end\n",
    "# '00' -> minute 5 end\n",
    "# '00' -> minute 6 end\n",
    "# '00' -> minute 7 end\n",
    "# '00' -> minute 8 end\n",
    "# '00' -> minute 9 end\n",
    "# # Factoid block body end"
   ]
  }
 ],
 "metadata": {
  "kernelspec": {
   "display_name": "Python 3",
   "language": "python",
   "name": "python3"
  },
  "language_info": {
   "codemirror_mode": {
    "name": "ipython",
    "version": 3
   },
   "file_extension": ".py",
   "mimetype": "text/x-python",
   "name": "python",
   "nbconvert_exporter": "python",
   "pygments_lexer": "ipython3",
   "version": "3.7.4"
  }
 },
 "nbformat": 4,
 "nbformat_minor": 2
}
